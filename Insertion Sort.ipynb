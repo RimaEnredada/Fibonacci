{
 "cells": [
  {
   "cell_type": "code",
   "execution_count": 1,
   "metadata": {},
   "outputs": [],
   "source": [
    "from itertools import permutations\n",
    "import random\n",
    "import numpy as np\n",
    "import sys\n",
    "from matplotlib import pyplot as plt\n",
    "%matplotlib inline"
   ]
  },
  {
   "cell_type": "code",
   "execution_count": 2,
   "metadata": {},
   "outputs": [],
   "source": [
    "def Perm(v,i,n,k,k1,k2,k3):\n",
    "    j = 0\n",
    "    \n",
    "    if(i == n):\n",
    "        k.append(insertion_sort_steps(v))\n",
    "        k1.append(insertion_sort_comps(v))\n",
    "        k2.append(insertion_sort_swaps(v))\n",
    "        k3.append(insertion_sort_whlcomps(v))\n",
    "    else:\n",
    "        for j in range(i,n):\n",
    "            swap(v,i,j)\n",
    "            Perm(v,i+1,n,k,k1,k2,k3)\n",
    "            swap(v,i,j)\n",
    "    return k,k1,k2,k3\n",
    "\n",
    "def swap(v,i,j):\n",
    "    t = v[i]\n",
    "    v[i] = v[j]\n",
    "    v[j] = t\n",
    "\n",
    "def insertion_sort_steps(a):\n",
    "    v = []\n",
    "    for i in range(len(a)):\n",
    "        v.append(a[i])\n",
    "\n",
    "    steps = 0\n",
    "    for i in range(1,len(v)):\n",
    "        x = v[i]\n",
    "        j = i-1\n",
    "        while (j > -1) and (v[j] > x):\n",
    "            v[j+1] = v[j]\n",
    "            j = j -1\n",
    "            steps = steps + 3\n",
    "        steps = steps + 1\n",
    "        v[j+1] = x\n",
    "        steps = steps + 4\n",
    "    steps = steps + 1\n",
    "    return steps\n",
    "\n",
    "def insertion_sort_comps(a):\n",
    "    v = []\n",
    "    for i in range(len(a)):\n",
    "        v.append(a[i])\n",
    "\n",
    "    comps = 0\n",
    "    for i in range(1,len(v)):\n",
    "        comps += 1\n",
    "        x = v[i]\n",
    "        j = i-1\n",
    "        while (j > -1) and (v[j] > x):           \n",
    "            v[j+1] = v[j]\n",
    "            j = j -1\n",
    "            comps += 1\n",
    "        v[j+1] = x\n",
    "\n",
    "    return comps\n",
    "\n",
    "def insertion_sort_swaps(a):\n",
    "    v = []\n",
    "    for i in range(len(a)):\n",
    "        v.append(a[i])\n",
    "\n",
    "    swaps = 0\n",
    "    for i in range(1,len(v)):\n",
    "        x = v[i]\n",
    "        j = i-1\n",
    "        while (j > -1) and (v[j] > x):           \n",
    "            swaps += 1\n",
    "            v[j+1] = v[j]\n",
    "            j = j -1\n",
    "        v[j+1] = x\n",
    "\n",
    "    return swaps\n",
    "\n",
    "def insertion_sort_whlcomps(a):\n",
    "    v = []\n",
    "    for i in range(len(a)):\n",
    "        v.append(a[i])\n",
    "\n",
    "    whiles = 0\n",
    "    for i in range(1,len(v)):\n",
    "        x = v[i]\n",
    "        j = i-1        \n",
    "        while (j > -1) and (v[j] > x): \n",
    "            whiles += 1\n",
    "            v[j+1] = v[j]\n",
    "            j = j -1\n",
    "        whiles += 1\n",
    "        v[j+1] = x\n",
    "\n",
    "    return whiles"
   ]
  },
  {
   "cell_type": "code",
   "execution_count": 3,
   "metadata": {},
   "outputs": [],
   "source": [
    "perm = list(permutations(range(8)))"
   ]
  },
  {
   "cell_type": "code",
   "execution_count": 4,
   "metadata": {},
   "outputs": [],
   "source": [
    "steps = []\n",
    "comps = []\n",
    "swaps = []\n",
    "whlcomps = []\n",
    "for i in range(len(perm)):\n",
    "    steps.append(insertion_sort_steps(perm[i]))\n",
    "    comps.append(insertion_sort_comps(perm[i]))\n",
    "    swaps.append(insertion_sort_swaps(perm[i]))\n",
    "    whlcomps.append(insertion_sort_whlcomps(perm[i]))\n"
   ]
  },
  {
   "cell_type": "code",
   "execution_count": 5,
   "metadata": {},
   "outputs": [],
   "source": [
    "av_steps = float(sum(steps))/float(len(steps))\n",
    "av_comps = float(sum(comps))/float(len(comps))\n",
    "av_swaps = float(sum(swaps))/float(len(swaps))\n",
    "av_whlcomps = sum(whlcomps)/float(len(whlcomps))"
   ]
  },
  {
   "cell_type": "code",
   "execution_count": 6,
   "metadata": {},
   "outputs": [],
   "source": [
    "k = []\n",
    "k1 = []\n",
    "k2 = []\n",
    "k3 = []\n",
    "v = [0,1,2,3,4,5,6,7]\n",
    "steps1,comps1,swaps1,whlcomps1 = Perm(v,0,8,k,k1,k2,k3)"
   ]
  },
  {
   "cell_type": "code",
   "execution_count": 7,
   "metadata": {},
   "outputs": [],
   "source": [
    "av_steps1 = float(sum(steps1))/float(len(steps1))\n",
    "av_comps1 = float(sum(comps1))/float(len(comps1))\n",
    "av_swaps1 = float(sum(swaps1))/float(len(swaps1))\n",
    "av_whlcomps1 = sum(whlcomps1)/float(len(whlcomps1))"
   ]
  },
  {
   "cell_type": "code",
   "execution_count": 8,
   "metadata": {},
   "outputs": [
    {
     "data": {
      "image/png": "[encoded data removed]",
      "text/plain": [
       "<matplotlib.figure.Figure at 0x7fa038f3fe80>"
      ]
     },
     "metadata": {},
     "output_type": "display_data"
    }
   ],
   "source": [
    "n_groups = 4\n",
    "Itertools = (av_steps,av_swaps,av_comps,av_whlcomps)\n",
    "DJ = (av_steps1,av_swaps1,av_comps1,av_whlcomps1)\n",
    "fig, ax = plt.subplots()\n",
    "index = np.arange(n_groups)\n",
    "bar_width = 0.35\n",
    "opacity = 0.8\n",
    " \n",
    "rects1 = plt.bar(index, Itertools, bar_width,\n",
    "                 alpha=opacity,\n",
    "                 color='b',\n",
    "                 label='Itertools')\n",
    " \n",
    "rects2 = plt.bar(index + bar_width, DJ, bar_width,\n",
    "                 alpha=opacity,\n",
    "                 color='g',\n",
    "                 label='DJ')\n",
    " \n",
    "plt.xlabel('Mediciones')\n",
    "plt.ylabel('Promedio')\n",
    "plt.title('Promedios de cada caso')\n",
    "plt.xticks(index + bar_width, ('Instrucciones', 'Comparaciones', 'Swaps', 'While'))\n",
    "plt.legend()\n",
    " \n",
    "plt.tight_layout()\n",
    "plt.show()"
   ]
  },
  {
   "cell_type": "code",
   "execution_count": null,
   "metadata": {},
   "outputs": [],
   "source": []
  }
 ],
 "metadata": {
  "kernelspec": {
   "display_name": "Python 3",
   "language": "python",
   "name": "python3"
  },
  "language_info": {
   "codemirror_mode": {
    "name": "ipython",
    "version": 3
   },
   "file_extension": ".py",
   "mimetype": "text/x-python",
   "name": "python",
   "nbconvert_exporter": "python",
   "pygments_lexer": "ipython3",
   "version": "3.6.4"
  }
 },
 "nbformat": 4,
 "nbformat_minor": 2
}
